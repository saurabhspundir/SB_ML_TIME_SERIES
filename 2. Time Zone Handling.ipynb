{
 "cells": [
  {
   "cell_type": "code",
   "execution_count": 1,
   "metadata": {},
   "outputs": [],
   "source": [
    "import numpy as np\n",
    "import pandas as pd"
   ]
  },
  {
   "cell_type": "code",
   "execution_count": 2,
   "metadata": {},
   "outputs": [],
   "source": [
    "rng = pd.date_range('3/6/2012 00:00', periods = 15, freq = 'D')\n",
    "rng.tz"
   ]
  },
  {
   "cell_type": "code",
   "execution_count": 3,
   "metadata": {},
   "outputs": [
    {
     "data": {
      "text/plain": [
       "<DstTzInfo 'Europe/London' LMT-1 day, 23:59:00 STD>"
      ]
     },
     "execution_count": 3,
     "metadata": {},
     "output_type": "execute_result"
    }
   ],
   "source": [
    "rng_tz = pd.date_range('3/6/2012 00:00', periods = 15, freq = 'D', tz = 'Europe/London')\n",
    "rng_tz.tz"
   ]
  },
  {
   "cell_type": "code",
   "execution_count": 4,
   "metadata": {},
   "outputs": [
    {
     "name": "stdout",
     "output_type": "stream",
     "text": [
      "439\n",
      "591\n",
      "{'Pacific/Samoa', 'Mexico/BajaNorte', 'Etc/GMT-2', 'Africa/Timbuktu', 'Asia/Harbin', 'GB-Eire', 'Australia/NSW', 'ROC', 'Egypt', 'Australia/Tasmania', 'ROK', 'Navajo', 'Australia/North', 'GB', 'US/Aleutian', 'MET', 'Etc/GMT-11', 'America/Buenos_Aires', 'Asia/Dacca', 'Etc/GMT+1', 'WET', 'Australia/Canberra', 'Etc/GMT', 'Pacific/Ponape', 'PST8PDT', 'PRC', 'Europe/Tiraspol', 'Pacific/Yap', 'America/Rosario', 'Canada/Saskatchewan', 'GMT0', 'Etc/GMT+5', 'UCT', 'HST', 'Etc/GMT-9', 'NZ-CHAT', 'EET', 'Australia/Victoria', 'Japan', 'Poland', 'Australia/ACT', 'Greenwich', 'Etc/UTC', 'CET', 'America/Shiprock', 'America/Porto_Acre', 'Antarctica/South_Pole', 'Africa/Asmera', 'Etc/GMT-14', 'Europe/Nicosia', 'Brazil/West', 'Atlantic/Faeroe', 'Pacific/Johnston', 'Asia/Ashkhabad', 'Etc/GMT+2', 'Etc/Zulu', 'America/Atka', 'America/Catamarca', 'America/Cordoba', 'Eire', 'Australia/West', 'Brazil/Acre', 'Etc/Greenwich', 'America/Jujuy', 'Iran', 'Etc/GMT-10', 'NZ', 'Etc/GMT+9', 'US/Michigan', 'Etc/GMT-6', 'America/Montreal', 'US/East-Indiana', 'Etc/GMT+7', 'Cuba', 'Mexico/General', 'Etc/GMT+10', 'America/Santa_Isabel', 'Etc/GMT+3', 'Etc/GMT-13', 'Chile/EasterIsland', 'Etc/GMT-4', 'Asia/Tel_Aviv', 'Pacific/Truk', 'Etc/GMT+8', 'Asia/Katmandu', 'Europe/Belfast', 'Mexico/BajaSur', 'Australia/South', 'Asia/Chungking', 'Asia/Rangoon', 'Israel', 'Etc/GMT+6', 'America/Indianapolis', 'Singapore', 'Portugal', 'Etc/GMT-5', 'Australia/LHI', 'America/Argentina/ComodRivadavia', 'Etc/UCT', 'Etc/GMT+12', 'Brazil/East', 'Australia/Yancowinna', 'America/Coral_Harbour', 'MST7MDT', 'Etc/GMT-7', 'America/Virgin', 'Australia/Queensland', 'Asia/Thimbu', 'Asia/Istanbul', 'US/Samoa', 'Etc/GMT0', 'Etc/GMT+4', 'Etc/GMT-1', 'America/Ensenada', 'Etc/GMT+0', 'US/Indiana-Starke', 'Etc/GMT-3', 'Atlantic/Jan_Mayen', 'Chile/Continental', 'EST', 'America/Knox_IN', 'Hongkong', 'Etc/GMT-8', 'CST6CDT', 'Asia/Calcutta', 'Iceland', 'W-SU', 'Turkey', 'Kwajalein', 'Asia/Ulan_Bator', 'America/Louisville', 'America/Mendoza', 'Etc/GMT+11', 'Asia/Macao', 'Asia/Ujung_Pandang', 'Brazil/DeNoronha', 'Etc/GMT-0', 'Etc/GMT-12', 'Jamaica', 'Libya', 'Canada/Yukon', 'America/Fort_Wayne', 'Asia/Kashgar', 'Etc/Universal', 'GMT+0', 'MST', 'GMT-0', 'Zulu', 'Universal', 'Asia/Chongqing', 'Asia/Saigon', 'EST5EDT'}\n"
     ]
    }
   ],
   "source": [
    "from pytz import common_timezones, all_timezones\n",
    "print(len(common_timezones))\n",
    "print(len(all_timezones))\n",
    "print(set(all_timezones) - set(common_timezones))"
   ]
  },
  {
   "cell_type": "code",
   "execution_count": 5,
   "metadata": {},
   "outputs": [
    {
     "data": {
      "text/plain": [
       "Timestamp('2016-07-10 08:50:00')"
      ]
     },
     "execution_count": 5,
     "metadata": {},
     "output_type": "execute_result"
    }
   ],
   "source": [
    "# You can also localize a naive timestamp\n",
    "t_naive = pd.Timestamp('2016-07-10 08:50')\n",
    "t_naive"
   ]
  },
  {
   "cell_type": "code",
   "execution_count": 6,
   "metadata": {},
   "outputs": [
    {
     "data": {
      "text/plain": [
       "Timestamp('2016-07-10 08:50:00-0500', tz='US/Central')"
      ]
     },
     "execution_count": 6,
     "metadata": {},
     "output_type": "execute_result"
    }
   ],
   "source": [
    "t = t_naive.tz_localize(tz = 'US/Central')\n",
    "t"
   ]
  },
  {
   "cell_type": "code",
   "execution_count": 7,
   "metadata": {},
   "outputs": [
    {
     "data": {
      "text/plain": [
       "Timestamp('2016-07-10 22:50:00+0900', tz='Asia/Tokyo')"
      ]
     },
     "execution_count": 7,
     "metadata": {},
     "output_type": "execute_result"
    }
   ],
   "source": [
    "t.tz_convert('Asia/Tokyo')"
   ]
  },
  {
   "cell_type": "code",
   "execution_count": 8,
   "metadata": {},
   "outputs": [
    {
     "data": {
      "text/plain": [
       "2016-03-10 00:00:00-06:00    0\n",
       "2016-03-11 00:00:00-06:00    1\n",
       "2016-03-12 00:00:00-06:00    2\n",
       "2016-03-13 00:00:00-06:00    3\n",
       "2016-03-14 00:00:00-05:00    4\n",
       "2016-03-15 00:00:00-05:00    5\n",
       "2016-03-16 00:00:00-05:00    6\n",
       "2016-03-17 00:00:00-05:00    7\n",
       "2016-03-18 00:00:00-05:00    8\n",
       "2016-03-19 00:00:00-05:00    9\n",
       "Freq: D, dtype: int64"
      ]
     },
     "execution_count": 8,
     "metadata": {},
     "output_type": "execute_result"
    }
   ],
   "source": [
    "# how to handle daylight savings?\n",
    "rng = pd.date_range('2016-03-10', periods=10, tz='US/Central')\n",
    "ts = pd.Series(range(10), index=rng)\n",
    "ts"
   ]
  },
  {
   "cell_type": "code",
   "execution_count": 9,
   "metadata": {},
   "outputs": [
    {
     "data": {
      "text/plain": [
       "2016-03-10 00:00:00+00:00    0\n",
       "2016-03-11 00:00:00+00:00    1\n",
       "2016-03-12 00:00:00+00:00    2\n",
       "2016-03-13 00:00:00+00:00    3\n",
       "2016-03-14 00:00:00+00:00    4\n",
       "2016-03-15 00:00:00+00:00    5\n",
       "2016-03-16 00:00:00+00:00    6\n",
       "2016-03-17 00:00:00+00:00    7\n",
       "2016-03-18 00:00:00+00:00    8\n",
       "2016-03-19 00:00:00+00:00    9\n",
       "Freq: D, dtype: int64"
      ]
     },
     "execution_count": 9,
     "metadata": {},
     "output_type": "execute_result"
    }
   ],
   "source": [
    "rng = pd.date_range('2016-03-10', periods=10, tz='utc')\n",
    "ts = pd.Series(range(10), index=rng)\n",
    "ts"
   ]
  },
  {
   "cell_type": "code",
   "execution_count": 10,
   "metadata": {},
   "outputs": [
    {
     "data": {
      "text/plain": [
       "2016-03-09 18:00:00-06:00    0\n",
       "2016-03-10 18:00:00-06:00    1\n",
       "2016-03-11 18:00:00-06:00    2\n",
       "2016-03-12 18:00:00-06:00    3\n",
       "2016-03-13 19:00:00-05:00    4\n",
       "2016-03-14 19:00:00-05:00    5\n",
       "2016-03-15 19:00:00-05:00    6\n",
       "2016-03-16 19:00:00-05:00    7\n",
       "2016-03-17 19:00:00-05:00    8\n",
       "2016-03-18 19:00:00-05:00    9\n",
       "Freq: D, dtype: int64"
      ]
     },
     "execution_count": 10,
     "metadata": {},
     "output_type": "execute_result"
    }
   ],
   "source": [
    "ts.tz_convert('US/Central')"
   ]
  },
  {
   "cell_type": "code",
   "execution_count": 11,
   "metadata": {},
   "outputs": [
    {
     "data": {
      "text/plain": [
       "DatetimeIndex(['2016-03-12 22:00:00-05:00', '2016-03-12 23:00:00-05:00',\n",
       "               '2016-03-13 00:00:00-05:00', '2016-03-13 01:00:00-05:00',\n",
       "               '2016-03-13 03:00:00-04:00', '2016-03-13 04:00:00-04:00',\n",
       "               '2016-03-13 05:00:00-04:00', '2016-03-13 06:00:00-04:00',\n",
       "               '2016-03-13 07:00:00-04:00', '2016-03-13 08:00:00-04:00',\n",
       "               '2016-03-13 09:00:00-04:00', '2016-03-13 10:00:00-04:00'],\n",
       "              dtype='datetime64[ns, US/Eastern]', freq='H')"
      ]
     },
     "execution_count": 11,
     "metadata": {},
     "output_type": "execute_result"
    }
   ],
   "source": [
    "pd.date_range('03-12-2016 22:00', periods = 12, freq = 'H', tz = 'US/Eastern')"
   ]
  },
  {
   "cell_type": "code",
   "execution_count": 12,
   "metadata": {},
   "outputs": [
    {
     "data": {
      "text/plain": [
       "Timestamp('2016-03-13 02:00:00-0500', tz='US/Eastern')"
      ]
     },
     "execution_count": 12,
     "metadata": {},
     "output_type": "execute_result"
    }
   ],
   "source": [
    "# May autocorrect an error rather than giving you a non-existent time error\n",
    "pd.Timestamp('2016-03-13 02:00 AM', tz = 'US/Eastern')"
   ]
  },
  {
   "cell_type": "code",
   "execution_count": null,
   "metadata": {},
   "outputs": [],
   "source": []
  }
 ],
 "metadata": {
  "kernelspec": {
   "display_name": "Python 3",
   "language": "python",
   "name": "python3"
  },
  "language_info": {
   "codemirror_mode": {
    "name": "ipython",
    "version": 3
   },
   "file_extension": ".py",
   "mimetype": "text/x-python",
   "name": "python",
   "nbconvert_exporter": "python",
   "pygments_lexer": "ipython3",
   "version": "3.6.5"
  },
  "widgets": {
   "state": {},
   "version": "1.1.1"
  }
 },
 "nbformat": 4,
 "nbformat_minor": 1
}
