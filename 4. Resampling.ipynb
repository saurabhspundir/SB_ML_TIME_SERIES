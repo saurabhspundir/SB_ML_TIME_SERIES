{
 "cells": [
  {
   "cell_type": "code",
   "execution_count": 1,
   "metadata": {},
   "outputs": [],
   "source": [
    "import pandas as pd\n",
    "import numpy as np"
   ]
  },
  {
   "cell_type": "code",
   "execution_count": 2,
   "metadata": {},
   "outputs": [],
   "source": [
    "rng = pd.date_range('1/1/2011', periods=72, freq='H')\n",
    "ts = pd.Series(np.random.randn(len(rng)), index=rng)"
   ]
  },
  {
   "cell_type": "code",
   "execution_count": 3,
   "metadata": {},
   "outputs": [],
   "source": [
    "converted = ts.asfreq('45Min', method='pad')"
   ]
  },
  {
   "cell_type": "code",
   "execution_count": 4,
   "metadata": {},
   "outputs": [
    {
     "data": {
      "text/plain": [
       "(95,)"
      ]
     },
     "execution_count": 4,
     "metadata": {},
     "output_type": "execute_result"
    }
   ],
   "source": [
    "# Does asfreq change the # of rows?\n",
    "converted.shape"
   ]
  },
  {
   "cell_type": "code",
   "execution_count": 5,
   "metadata": {},
   "outputs": [
    {
     "data": {
      "text/plain": [
       "(72,)"
      ]
     },
     "execution_count": 5,
     "metadata": {},
     "output_type": "execute_result"
    }
   ],
   "source": [
    "ts.shape"
   ]
  },
  {
   "cell_type": "markdown",
   "metadata": {},
   "source": [
    "Yes, the number of rows changes."
   ]
  },
  {
   "cell_type": "code",
   "execution_count": 6,
   "metadata": {},
   "outputs": [],
   "source": [
    "# What do the different methods do?\n",
    "# method : {‘backfill’, ‘bfill’, ‘pad’, ‘ffill’, None}"
   ]
  },
  {
   "cell_type": "markdown",
   "metadata": {},
   "source": [
    "From the pandas documentation:\n",
    "* ‘pad’ / ‘ffill’: propagate last valid observation forward to next valid\n",
    "* ‘backfill’ / ‘bfill’: use NEXT valid observation to fill"
   ]
  },
  {
   "cell_type": "code",
   "execution_count": 7,
   "metadata": {},
   "outputs": [],
   "source": [
    "# Might any of these methods have pitfalls from a logical point of view?"
   ]
  },
  {
   "cell_type": "markdown",
   "metadata": {},
   "source": [
    "Pad and Forward Fills are more logical in their use because backfills use data of the next observation which basically means that you are looking into the future. This is a poor way to build a model as more often than not, we will not have data on future data points and their values."
   ]
  },
  {
   "cell_type": "code",
   "execution_count": 8,
   "metadata": {},
   "outputs": [],
   "source": [
    "# What's the difference between going to a higher frequency and a lower frequency?"
   ]
  },
  {
   "cell_type": "markdown",
   "metadata": {},
   "source": [
    "Higher frequency means more data in a given time range. Lower frequency means lesser data in the same time range. "
   ]
  },
  {
   "cell_type": "code",
   "execution_count": 9,
   "metadata": {},
   "outputs": [
    {
     "data": {
      "text/plain": [
       "2011-01-01 00:00:00    0.840635\n",
       "2011-01-01 01:30:00   -1.548443\n",
       "2011-01-01 03:00:00    0.368248\n",
       "2011-01-01 04:30:00   -0.331805\n",
       "2011-01-01 06:00:00   -0.069850\n",
       "2011-01-01 07:30:00   -1.929173\n",
       "2011-01-01 09:00:00   -1.357124\n",
       "2011-01-01 10:30:00    0.048016\n",
       "2011-01-01 12:00:00   -0.644281\n",
       "2011-01-01 13:30:00    0.403824\n",
       "2011-01-01 15:00:00    0.532065\n",
       "2011-01-01 16:30:00    0.720402\n",
       "2011-01-01 18:00:00    0.921410\n",
       "2011-01-01 19:30:00    1.306856\n",
       "2011-01-01 21:00:00   -0.970646\n",
       "2011-01-01 22:30:00    1.402118\n",
       "2011-01-02 00:00:00    0.828029\n",
       "2011-01-02 01:30:00    0.640548\n",
       "2011-01-02 03:00:00   -1.190857\n",
       "2011-01-02 04:30:00   -0.326832\n",
       "2011-01-02 06:00:00    0.290995\n",
       "2011-01-02 07:30:00   -0.624131\n",
       "2011-01-02 09:00:00    0.394241\n",
       "2011-01-02 10:30:00   -0.852693\n",
       "2011-01-02 12:00:00    0.270712\n",
       "2011-01-02 13:30:00   -0.391201\n",
       "2011-01-02 15:00:00   -0.614069\n",
       "2011-01-02 16:30:00    0.632296\n",
       "2011-01-02 18:00:00    0.777989\n",
       "2011-01-02 19:30:00   -0.348001\n",
       "2011-01-02 21:00:00   -0.120516\n",
       "2011-01-02 22:30:00    1.051181\n",
       "2011-01-03 00:00:00    0.764730\n",
       "2011-01-03 01:30:00    0.690398\n",
       "2011-01-03 03:00:00    0.195532\n",
       "2011-01-03 04:30:00    0.737889\n",
       "2011-01-03 06:00:00    1.854327\n",
       "2011-01-03 07:30:00   -0.736649\n",
       "2011-01-03 09:00:00   -0.534587\n",
       "2011-01-03 10:30:00   -0.257563\n",
       "2011-01-03 12:00:00   -0.034711\n",
       "2011-01-03 13:30:00   -0.152252\n",
       "2011-01-03 15:00:00    0.606656\n",
       "2011-01-03 16:30:00   -1.116502\n",
       "2011-01-03 18:00:00   -1.525972\n",
       "2011-01-03 19:30:00    0.200724\n",
       "2011-01-03 21:00:00   -1.579662\n",
       "2011-01-03 22:30:00    0.537153\n",
       "Freq: 90T, dtype: float64"
      ]
     },
     "execution_count": 9,
     "metadata": {},
     "output_type": "execute_result"
    }
   ],
   "source": [
    "converted = ts.asfreq('90Min', method = 'bfill')\n",
    "converted"
   ]
  },
  {
   "cell_type": "code",
   "execution_count": 10,
   "metadata": {},
   "outputs": [],
   "source": [
    "# What's different logically about going to a higher frequency vs a lower frequency? \n",
    "# What do you want to do when switching to a lower freqeuncy that is not logical when switching to a higher frequency?"
   ]
  },
  {
   "cell_type": "markdown",
   "metadata": {},
   "source": [
    "With higher frequencies, we are creating more data points than there were originally whereas with a lower frequency, we are trying to downsample our dataset. When switching to a lower frequency, we need to decide on a way to fill in the data correponding to the datetimes that arise from downsampling.This is not an issue with higher frequencies as you could use a ffill or a bfill since there is no real loss of data."
   ]
  },
  {
   "cell_type": "code",
   "execution_count": 11,
   "metadata": {},
   "outputs": [
    {
     "data": {
      "text/plain": [
       "2011-01-01    3.956656\n",
       "2011-01-02    0.461862\n",
       "2011-01-03   -2.103953\n",
       "Freq: D, dtype: float64"
      ]
     },
     "execution_count": 11,
     "metadata": {},
     "output_type": "execute_result"
    }
   ],
   "source": [
    "ts.resample('D').sum()"
   ]
  },
  {
   "cell_type": "code",
   "execution_count": 12,
   "metadata": {},
   "outputs": [],
   "source": [
    "# What if you want to downsample and you don't want to ffill or bfill?"
   ]
  },
  {
   "cell_type": "markdown",
   "metadata": {},
   "source": [
    "Set the method of filling to None."
   ]
  },
  {
   "cell_type": "code",
   "execution_count": 13,
   "metadata": {},
   "outputs": [],
   "source": [
    "# What is the difference between .resample() and .asfreq()?"
   ]
  },
  {
   "cell_type": "markdown",
   "metadata": {},
   "source": [
    ".asfreq() is more limited than .resample(). The Resample method is an aggregation object and can be used to do complex stuff that is not possible with asfreq."
   ]
  },
  {
   "cell_type": "code",
   "execution_count": 14,
   "metadata": {},
   "outputs": [],
   "source": [
    "# What are some special things you can do with .resample() you can't do with .asfreq()?"
   ]
  },
  {
   "cell_type": "markdown",
   "metadata": {
    "collapsed": true
   },
   "source": [
    "It is possible to aggregate values while downsampling using .resample() which is not possible with .asfreq()"
   ]
  },
  {
   "cell_type": "code",
   "execution_count": null,
   "metadata": {},
   "outputs": [],
   "source": []
  }
 ],
 "metadata": {
  "kernelspec": {
   "display_name": "Python 3",
   "language": "python",
   "name": "python3"
  },
  "language_info": {
   "codemirror_mode": {
    "name": "ipython",
    "version": 3
   },
   "file_extension": ".py",
   "mimetype": "text/x-python",
   "name": "python",
   "nbconvert_exporter": "python",
   "pygments_lexer": "ipython3",
   "version": "3.6.5"
  },
  "widgets": {
   "state": {},
   "version": "1.1.1"
  }
 },
 "nbformat": 4,
 "nbformat_minor": 1
}
